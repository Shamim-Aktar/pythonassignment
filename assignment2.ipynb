{
 "cells": [
  {
   "cell_type": "code",
   "execution_count": 59,
   "metadata": {},
   "outputs": [
    {
     "name": "stdout",
     "output_type": "stream",
     "text": [
      "[2, 4, 6, 8, 10]\n",
      "21\n"
     ]
    }
   ],
   "source": [
    "def myreduce(func, seq):\n",
    "    result=seq[0]\n",
    "    for i in seq[1:]:\n",
    "        result=func(result, i)\n",
    "    return result\n",
    "def sum(a, b):\n",
    "    return a+b\n",
    "ownreduce=myreduce(sum, [1,2,3,4,5,6])\n",
    "print(ownreduce)\n",
    "\n"
   ]
  },
  {
   "cell_type": "code",
   "execution_count": 60,
   "metadata": {},
   "outputs": [
    {
     "name": "stdout",
     "output_type": "stream",
     "text": [
      "[2, 4, 6, 8, 10]\n"
     ]
    }
   ],
   "source": [
    "def my_filter(func,sequence):\n",
    "    res=[]\n",
    "    for variable in sequence :\n",
    "        if func(variable):\n",
    "            res.append(variable)\n",
    "    return res\n",
    "\n",
    "def is_even(item):\n",
    "    if item%2==0 :\n",
    "        return True\n",
    "    else :\n",
    "        return False\n",
    "    \n",
    "    \n",
    "    seq=[1,2,3,4,5,6,7,8,9,10]\n",
    "print(my_filter(is_even,seq))"
   ]
  },
  {
   "cell_type": "code",
   "execution_count": 17,
   "metadata": {},
   "outputs": [
    {
     "name": "stdout",
     "output_type": "stream",
     "text": [
      "['A', 'C', 'A', 'D', 'G', 'I', 'L', 'D']\n",
      "['x','y','z'] => ['x', 'xx', 'xxx', 'xxxx', 'y', 'yy', 'yyy', 'yyyy', 'z', 'zz', 'zzz', 'zzzz']\n",
      "['x', 'y', 'z', 'xx', 'yy', 'zz', 'xxx', 'yyy', 'zzz', 'xxxx', 'yyyy', 'zzzz']\n",
      "resultnum=>[[2], [3], [4], [3], [4], [5], [4], [5], [6]]\n",
      "biglist[[2, 3, 4], [3, 4, 5], [4, 5, 6], [5, 6, 7]]\n",
      "crossresult[(1, 1), (2, 1), (3, 1), (1, 2), (2, 2), (3, 2), (1, 3), (2, 3), (3, 3)]\n"
     ]
    }
   ],
   "source": [
    "word ='ACADGILD'\n",
    "wordcomprehension=[item for item in word]\n",
    "print(wordcomprehension)\n",
    "input_list = ['x','y','z']\n",
    "result = [ item*num for item in input_list for num in range(1,5)  ]\n",
    "result2=[item*num for num  in range(1,5)  for item in input_list]\n",
    "print(\"['x','y','z'] => \" +   str(result))\n",
    "print(str(result2))\n",
    "input_num=[2,3,4]\n",
    "\n",
    "resultnumlist=[[item+num] for item in input_num for num in range(0,3)  ]\n",
    "print('resultnum=>'+str(resultnumlist))\n",
    "\n",
    "resultbiglist = [ [item+num for item in input_num] for num in range(0,4)  ]\n",
    "print('biglist'+str(resultbiglist))\n",
    "\n",
    "inputnumber=[1,2,3]\n",
    "crossresult=[(b, a) for a in inputnumber  for b in inputnumber]\n",
    "print('crossresult'+str(crossresult))\n",
    "\n"
   ]
  },
  {
   "cell_type": "code",
   "execution_count": 29,
   "metadata": {},
   "outputs": [
    {
     "name": "stdout",
     "output_type": "stream",
     "text": [
      "Tanmoy\n"
     ]
    }
   ],
   "source": [
    "def longestWord(word_list):\n",
    "    wordlen=[]\n",
    "    for n in word_list:\n",
    "        wordlen.append((len(n),n))\n",
    "    wordlen.sort()\n",
    "    return wordlen[-1][1]\n",
    "print(longestWord([\"Shamim\", \"Ravi\", \"Tanmoy\"]))"
   ]
  },
  {
   "cell_type": "code",
   "execution_count": 52,
   "metadata": {},
   "outputs": [
    {
     "name": "stdout",
     "output_type": "stream",
     "text": [
      "Please enter the first side of a triangle: 5\n",
      "Please enter the second side of a triangle: 6\n",
      "Please enter the third side of a triangle: 7\n",
      "14.696938456699069\n"
     ]
    }
   ],
   "source": [
    "\n",
    "\n",
    "class Triangle:\n",
    "  \n",
    "    def input_sides():\n",
    "        a=int(input('Please enter the first side of a triangle: '))\n",
    "        b=int(input('Please enter the second side of a triangle: '))\n",
    "        c=int(input('Please enter the third side of a triangle: '))\n",
    "        return a,b,c\n",
    "class areacalculate(Triangle):\n",
    "   \n",
    "    def getarea(self):\n",
    "        a,b,c=Triangle.input_sides()\n",
    "        s=(a+b+c)/2\n",
    "        area=(s*(s-a)*(s-b)*(s-c))**0.5\n",
    "        return area  \n",
    "t=areacalculate()\n",
    "print(t.getarea())\n"
   ]
  },
  {
   "cell_type": "code",
   "execution_count": 55,
   "metadata": {},
   "outputs": [
    {
     "name": "stdout",
     "output_type": "stream",
     "text": [
      "['amul', 'shamim', 'zain']\n"
     ]
    }
   ],
   "source": [
    "def filter_long_words(words, n):\n",
    "    longword=[word for word in words if len(word)>3]\n",
    "    return longword\n",
    "print(filter_long_words(['a', 'amul', 'shamim', 'zain', 'b'], 3))"
   ]
  },
  {
   "cell_type": "code",
   "execution_count": 77,
   "metadata": {},
   "outputs": [
    {
     "name": "stdout",
     "output_type": "stream",
     "text": [
      "[1, 2, 3]\n"
     ]
    }
   ],
   "source": [
    "def correspondlength(listofwords):\n",
    "    lengths=[]\n",
    "    for word in listofwords:\n",
    "        lengths.append(len(word))\n",
    "    return lengths\n",
    "l=['a','ab','abc']\n",
    "print(correspondlength(l))\n",
    "    \n",
    "    "
   ]
  },
  {
   "cell_type": "code",
   "execution_count": 87,
   "metadata": {},
   "outputs": [
    {
     "name": "stdout",
     "output_type": "stream",
     "text": [
      "False\n",
      "True\n"
     ]
    }
   ],
   "source": [
    "def checkvowel(s):\n",
    "    \n",
    "    if s=='a' or s=='e' or s=='i' or s=='o' or s=='u':\n",
    "        return True\n",
    "    else:\n",
    "        return False\n",
    "print(checkvowel('b'))\n",
    "print(checkvowel('a'))"
   ]
  },
  {
   "cell_type": "code",
   "execution_count": null,
   "metadata": {},
   "outputs": [],
   "source": []
  }
 ],
 "metadata": {
  "kernelspec": {
   "display_name": "Python 3",
   "language": "python",
   "name": "python3"
  },
  "language_info": {
   "codemirror_mode": {
    "name": "ipython",
    "version": 3
   },
   "file_extension": ".py",
   "mimetype": "text/x-python",
   "name": "python",
   "nbconvert_exporter": "python",
   "pygments_lexer": "ipython3",
   "version": "3.7.4"
  }
 },
 "nbformat": 4,
 "nbformat_minor": 2
}
